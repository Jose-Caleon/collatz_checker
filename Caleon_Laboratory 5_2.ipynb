{
 "cells": [
  {
   "cell_type": "code",
   "execution_count": 29,
   "id": "7ad381ee",
   "metadata": {},
   "outputs": [],
   "source": [
    "def is_interlocked(expWord, x1, x2):\n",
    "    string1 = list(x1)\n",
    "    string2 = list(x2)\n",
    "    space = ''\n",
    "    r = 1\n",
    "\n",
    "    if len(x1) == len(x2):   \n",
    "        for i in range(len(x1)):\n",
    "            space += ' '.join(string1[i])\n",
    "            space += ' '.join(string2[i])\n",
    "            if expWord == space:\n",
    "                result = space, True\n",
    "            else:\n",
    "                result = space, False\n",
    "\n",
    "    elif len(x1) < len(x2):\n",
    "        for i in range(len(x1)):\n",
    "            space += ' '.join(string2[i])\n",
    "            space += ' '.join(string1[i])\n",
    "            r = i+1\n",
    "        space += string2[r]\n",
    "        if expWord == space:\n",
    "            result = space, True\n",
    "        else:\n",
    "            result = space, False\n",
    "\n",
    "    elif len(x1) > len(x2):\n",
    "        for i in range(len(x2)):\n",
    "            space += ' '.join(string1[i])\n",
    "            space += ' '.join(string2[i])\n",
    "            r = i+1\n",
    "        space += string1[r]\n",
    "        if expWord == space:\n",
    "            result = space, True\n",
    "        else:\n",
    "            result = space, False\n",
    "        \n",
    "    else:\n",
    "        pass\n",
    "    return result"
   ]
  },
  {
   "cell_type": "code",
   "execution_count": null,
   "id": "a9eb6f4a",
   "metadata": {},
   "outputs": [],
   "source": [
    "expWord = str(input())\n",
    "x1 = str(input())\n",
    "x2 = str(input())\n",
    "is_interlocked(expWord, x1, x2)"
   ]
  },
  {
   "cell_type": "code",
   "execution_count": null,
   "id": "900489ab",
   "metadata": {},
   "outputs": [],
   "source": [
    "expWord = str(input())\n",
    "x1 = str(input())\n",
    "x2 = str(input())\n",
    "is_interlocked(expWord, x1, x2)"
   ]
  },
  {
   "cell_type": "code",
   "execution_count": 34,
   "id": "120841d8",
   "metadata": {},
   "outputs": [
    {
     "data": {
      "text/plain": [
       "('pants', True)"
      ]
     },
     "execution_count": 34,
     "metadata": {},
     "output_type": "execute_result"
    }
   ],
   "source": [
    "expWord = str(input())\n",
    "x1 = str(input())\n",
    "x2 = str(input())\n",
    "is_interlocked(expWord, x1, x2)"
   ]
  }
 ],
 "metadata": {
  "kernelspec": {
   "display_name": "Python 3 (ipykernel)",
   "language": "python",
   "name": "python3"
  },
  "language_info": {
   "codemirror_mode": {
    "name": "ipython",
    "version": 3
   },
   "file_extension": ".py",
   "mimetype": "text/x-python",
   "name": "python",
   "nbconvert_exporter": "python",
   "pygments_lexer": "ipython3",
   "version": "3.12.1"
  }
 },
 "nbformat": 4,
 "nbformat_minor": 5
}

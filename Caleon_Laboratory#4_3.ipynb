{
 "cells": [
  {
   "cell_type": "code",
   "execution_count": 10,
   "metadata": {},
   "outputs": [],
   "source": [
    "\n",
    "def collatz_check(x):\n",
    "\n",
    "    numbers = x.split()\n",
    "    res = [eval(i) for i in numbers]\n",
    "    array = res[0]\n",
    "    newArray = [res[0]]\n",
    "    index = 0\n",
    "    for h in range(1, len(res)):\n",
    "        \n",
    "        if (array % 2 == 0):\n",
    "            array = array / 2\n",
    "            newArray.append(array)\n",
    "       \n",
    "        else:\n",
    "            array = (array * 3) + 1\n",
    "            newArray.append(array)\n",
    "\n",
    "   \n",
    "        if res[-1] != 1:\n",
    "            result3 = \"Non-Converging\"\n",
    "\n",
    "            return result3, False\n",
    "   \n",
    "        elif newArray == res:\n",
    "            result2 = \"collatz\"\n",
    "            print(type(res[0]))\n",
    "\n",
    "            return result2, True\n",
    "        \n",
    "    while(index < len(res)):\n",
    "        if newArray[index] != res[index]:\n",
    "            result1 = \"not collatz\"\n",
    "            \n",
    "            return res[index], result1, False\n",
    "        index = index + 1\n",
    "    "
   ]
  },
  {
   "cell_type": "code",
   "execution_count": 11,
   "metadata": {},
   "outputs": [
    {
     "name": "stdout",
     "output_type": "stream",
     "text": [
      "<class 'int'>\n"
     ]
    },
    {
     "data": {
      "text/plain": [
       "('collatz', True)"
      ]
     },
     "execution_count": 11,
     "metadata": {},
     "output_type": "execute_result"
    }
   ],
   "source": [
    "#collatz_check(str(input()))\n",
    "collatz_check(\"5 16 8 4 2 1\")"
   ]
  },
  {
   "cell_type": "code",
   "execution_count": null,
   "metadata": {},
   "outputs": [
    {
     "data": {
      "text/plain": [
       "(3, 'not collatz', False)"
      ]
     },
     "execution_count": 4,
     "metadata": {},
     "output_type": "execute_result"
    }
   ],
   "source": [
    "collatz_check(\"5 16 8 4 3 1\")"
   ]
  },
  {
   "cell_type": "code",
   "execution_count": null,
   "metadata": {},
   "outputs": [
    {
     "data": {
      "text/plain": [
       "('Non-Converging', False)"
      ]
     },
     "execution_count": 4,
     "metadata": {},
     "output_type": "execute_result"
    }
   ],
   "source": [
    "collatz_check(\"5 6 8 4 2 0\")"
   ]
  },
  {
   "cell_type": "code",
   "execution_count": 7,
   "metadata": {},
   "outputs": [
    {
     "data": {
      "text/plain": [
       "('collatz', True)"
      ]
     },
     "execution_count": 7,
     "metadata": {},
     "output_type": "execute_result"
    }
   ],
   "source": [
    "collatz_check(str(input()))"
   ]
  }
 ],
 "metadata": {
  "kernelspec": {
   "display_name": "Python 3",
   "language": "python",
   "name": "python3"
  },
  "language_info": {
   "codemirror_mode": {
    "name": "ipython",
    "version": 3
   },
   "file_extension": ".py",
   "mimetype": "text/x-python",
   "name": "python",
   "nbconvert_exporter": "python",
   "pygments_lexer": "ipython3",
   "version": "3.12.1"
  }
 },
 "nbformat": 4,
 "nbformat_minor": 2
}
